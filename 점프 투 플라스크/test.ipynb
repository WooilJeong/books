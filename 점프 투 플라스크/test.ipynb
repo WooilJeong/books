{
 "cells": [
  {
   "cell_type": "markdown",
   "metadata": {},
   "source": [
    "> ## Flask"
   ]
  },
  {
   "cell_type": "markdown",
   "metadata": {},
   "source": [
    "- [Source](https://github.com/pahkey/flaskbook)"
   ]
  },
  {
   "cell_type": "markdown",
   "metadata": {},
   "source": [
    "## Ch 01 - 플라스크 개발준비\n",
    "\n",
    "- Python, Flask 설치 및 개발 환경 준비\n",
    "- Flask Project 생성 및 프로그램 개발\n",
    "- Flask Server 실행"
   ]
  },
  {
   "cell_type": "markdown",
   "metadata": {},
   "source": [
    "### 마이크로 웹 프레임워크\n",
    "\n",
    "- 프레임워크를 간결하게 유지하고 확장할 수 있음.\n",
    "- (간결함) Flask 웹 프로그램 예시\n",
    "\n",
    "```python\n",
    "from flask import Flask\n",
    "app = Flask(__name__)\n",
    "\n",
    "@app.route(\"/\")\n",
    "def hello():\n",
    "    return \"Hello World!\"\n",
    "\n",
    "if __name__==\"__main__\":\n",
    "    app.run()\n",
    "```\n",
    "\n",
    "- (확장성) 필요 시 확장 모듈을 포함해가며 개발 진행"
   ]
  },
  {
   "cell_type": "markdown",
   "metadata": {},
   "source": [
    "### 개발환경 구축\n",
    "\n",
    "- 가상환경 생성\n",
    "\n",
    "```bash\n",
    "python -m venv venv\n",
    "```\n",
    "\n",
    "- 가상환경 활성화 (Gitbash)\n",
    "\n",
    "```bash\n",
    "source venv/Scripts/activate\n",
    "```\n",
    "\n",
    "- 가상환경 비활성화 (Gitbash)\n",
    "\n",
    "```bash\n",
    "deactivate\n",
    "```\n",
    "\n",
    "- pip 최신 버전 업데이트\n",
    "\n",
    "```bash\n",
    "python -m pip install --upgrade pip\n",
    "```\n",
    "\n",
    "- Flask 설치\n",
    "\n",
    "```bash\n",
    "pip install Flask\n",
    "```"
   ]
  },
  {
   "cell_type": "markdown",
   "metadata": {},
   "source": [
    "### Flask Project 생성\n",
    "\n",
    "- Flask App 변수 선언 (Gitbash)\n",
    "```bash\n",
    "export FLASK_APP=pybo\n",
    "```\n",
    "\n",
    "- [Flask App](http://127.0.0.1:5000)"
   ]
  },
  {
   "cell_type": "markdown",
   "metadata": {},
   "source": [
    "## Ch 02 - 플라스크 개발 기초 공사\n",
    "\n",
    "- 블루프린트 이용 라우트 함수 관리\n",
    "- 플라스크 ORM 이용 DB 제어\n",
    "- 게시판 질문 목록 및 상세 조회 기능 개발"
   ]
  },
  {
   "cell_type": "markdown",
   "metadata": {},
   "source": [
    "### 프로젝트 구조\n",
    "\n",
    "```bash\n",
    "├── pybo/\n",
    "│      ├─ __init__.py\n",
    "│      ├─ models.py\n",
    "│      ├─ forms.py\n",
    "│      ├─ views/\n",
    "│      │   └─ main_views.py\n",
    "│      ├─ static/\n",
    "│      │   └─ style.css\n",
    "│      └─ templates/\n",
    "│            └─ index.html\n",
    "└── config.py\n",
    "```\n",
    "\n",
    "- models.py: DB 처리\n",
    "    - ORM(Object Relational Mapping) 지원하는 SQLAlchemy 사용\n",
    "- forms.py: 서버로 전송된 폼 처리\n",
    "    - WTForms 사용\n",
    "- views: 화면을 구성하는 디렉터리\n",
    "- static: CSS, JavaScript, Image Files 저장 디렉터리\n",
    "- templates: HTML 파일 저장 디렉터리\n",
    "- config.py: 프로젝트 설정 파일\n",
    "    - 환경변수, DB 등 설정"
   ]
  },
  {
   "cell_type": "markdown",
   "metadata": {},
   "source": [
    "### 플라스크 애플리케이션 팩토리\n",
    "\n",
    "- app 객체를 전역으로 사용할 때 발생하는 문제를 예방할 때 사용\n",
    "- app 객체를 생성하는 함수를 의미\n",
    "\n",
    "- create_app() 함수"
   ]
  },
  {
   "cell_type": "markdown",
   "metadata": {},
   "source": [
    "### 블루프린트 라우트 함수 관리\n",
    "\n",
    "- 새로운 URL이 생길 때 라우트 함수를 create_app 함수 안에 계속 추가해야 하는 불편함 해결 위해 사용"
   ]
  },
  {
   "cell_type": "markdown",
   "metadata": {},
   "source": [
    "### 모델로 데이터 처리하기\n",
    "\n",
    "- 질문, 답변 작성 시 데이터 생성됨. 데이터를 저장하거나 조회하거나 수정하는 등의 기능을 구현해야 함. 웹 서비스는 데이터를 처리할 때 대부분 DB를 사용함."
   ]
  },
  {
   "cell_type": "markdown",
   "metadata": {},
   "source": [
    "### ORM(Object Relational Mapping)\n",
    "\n",
    "- 데이터를 관리하는 데 사용하는 ORM 클래스를 모델이라고 함."
   ]
  },
  {
   "cell_type": "markdown",
   "metadata": {},
   "source": [
    "### Flask ORM 라이브러리\n",
    "\n",
    "- SQLAlchemy\n",
    "- Flask-Migrate"
   ]
  },
  {
   "cell_type": "code",
   "execution_count": null,
   "metadata": {},
   "outputs": [],
   "source": []
  },
  {
   "cell_type": "code",
   "execution_count": null,
   "metadata": {},
   "outputs": [],
   "source": []
  },
  {
   "cell_type": "code",
   "execution_count": null,
   "metadata": {},
   "outputs": [],
   "source": []
  },
  {
   "cell_type": "code",
   "execution_count": null,
   "metadata": {},
   "outputs": [],
   "source": []
  },
  {
   "cell_type": "code",
   "execution_count": null,
   "metadata": {},
   "outputs": [],
   "source": []
  },
  {
   "cell_type": "code",
   "execution_count": null,
   "metadata": {},
   "outputs": [],
   "source": []
  },
  {
   "cell_type": "code",
   "execution_count": null,
   "metadata": {},
   "outputs": [],
   "source": []
  },
  {
   "cell_type": "code",
   "execution_count": null,
   "metadata": {},
   "outputs": [],
   "source": []
  }
 ],
 "metadata": {
  "kernelspec": {
   "display_name": "Python 3",
   "language": "python",
   "name": "python3"
  },
  "language_info": {
   "codemirror_mode": {
    "name": "ipython",
    "version": 3
   },
   "file_extension": ".py",
   "mimetype": "text/x-python",
   "name": "python",
   "nbconvert_exporter": "python",
   "pygments_lexer": "ipython3",
   "version": "3.8.3"
  },
  "toc": {
   "base_numbering": 1,
   "nav_menu": {},
   "number_sections": true,
   "sideBar": true,
   "skip_h1_title": false,
   "title_cell": "Table of Contents",
   "title_sidebar": "Contents",
   "toc_cell": false,
   "toc_position": {},
   "toc_section_display": true,
   "toc_window_display": false
  }
 },
 "nbformat": 4,
 "nbformat_minor": 4
}
